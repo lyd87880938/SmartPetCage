{
  "nbformat": 4,
  "nbformat_minor": 0,
  "metadata": {
    "colab": {
      "name": "Project",
      "provenance": [],
      "collapsed_sections": [],
      "mount_file_id": "1Hrfi5qRospKVUZKrErM9k7X7ae1-cLel",
      "authorship_tag": "ABX9TyN5idDf1QWTpMJ2mutm/5QL",
      "include_colab_link": true
    },
    "kernelspec": {
      "name": "python3",
      "display_name": "Python 3"
    },
    "language_info": {
      "name": "python"
    }
  },
  "cells": [
    {
      "cell_type": "markdown",
      "metadata": {
        "id": "view-in-github",
        "colab_type": "text"
      },
      "source": [
        "<a href=\"https://colab.research.google.com/github/lyd87880938/SmartPetCage/blob/main/Project.ipynb\" target=\"_parent\"><img src=\"https://colab.research.google.com/assets/colab-badge.svg\" alt=\"Open In Colab\"/></a>"
      ]
    },
    {
      "cell_type": "code",
      "metadata": {
        "id": "o51gWSnGEreK",
        "colab": {
          "base_uri": "https://localhost:8080/"
        },
        "outputId": "3c048b37-aeac-4c1e-9415-efea1e34998c"
      },
      "source": [
        "import pandas as pd\n",
        "\n",
        "print(pd.read_csv('/content/drive/MyDrive/Colab Notebooks/solar_201502_201512_clean.csv').info())\n",
        "print(pd.read_csv('/content/drive/MyDrive/Colab Notebooks/solar_201502_201512_clean.csv').head(10))"
      ],
      "execution_count": 6,
      "outputs": [
        {
          "output_type": "stream",
          "text": [
            "<class 'pandas.core.frame.DataFrame'>\n",
            "RangeIndex: 480900 entries, 0 to 480899\n",
            "Data columns (total 12 columns):\n",
            " #   Column     Non-Null Count   Dtype  \n",
            "---  ------     --------------   -----  \n",
            " 0   UTC        480900 non-null  int64  \n",
            " 1   timestamp  480900 non-null  object \n",
            " 2   kW-1       480900 non-null  float64\n",
            " 3   kW-2       480900 non-null  float64\n",
            " 4   kW-3       480900 non-null  float64\n",
            " 5   kW-4       480900 non-null  float64\n",
            " 6   kW-5       480900 non-null  float64\n",
            " 7   kW-6       480900 non-null  float64\n",
            " 8   kW-7       480900 non-null  float64\n",
            " 9   kW-8       480900 non-null  float64\n",
            " 10  kW-9       480900 non-null  float64\n",
            " 11  kW-10      480900 non-null  float64\n",
            "dtypes: float64(10), int64(1), object(1)\n",
            "memory usage: 44.0+ MB\n",
            "None\n",
            "          UTC    timestamp  kW-1  kW-2  kW-3  ...  kW-6  kW-7  kW-8  kW-9  kW-10\n",
            "0  1422766800  2/1/15 0:00   0.0   0.0   0.0  ...   0.0   0.0   0.0   0.0    0.0\n",
            "1  1422766860  2/1/15 0:01   0.0   0.0   0.0  ...   0.0   0.0   0.0   0.0    0.0\n",
            "2  1422766920  2/1/15 0:02   0.0   0.0   0.0  ...   0.0   0.0   0.0   0.0    0.0\n",
            "3  1422766980  2/1/15 0:03   0.0   0.0   0.0  ...   0.0   0.0   0.0   0.0    0.0\n",
            "4  1422767040  2/1/15 0:04   0.0   0.0   0.0  ...   0.0   0.0   0.0   0.0    0.0\n",
            "5  1422767100  2/1/15 0:05   0.0   0.0   0.0  ...   0.0   0.0   0.0   0.0    0.0\n",
            "6  1422767160  2/1/15 0:06   0.0   0.0   0.0  ...   0.0   0.0   0.0   0.0    0.0\n",
            "7  1422767220  2/1/15 0:07   0.0   0.0   0.0  ...   0.0   0.0   0.0   0.0    0.0\n",
            "8  1422767280  2/1/15 0:08   0.0   0.0   0.0  ...   0.0   0.0   0.0   0.0    0.0\n",
            "9  1422767340  2/1/15 0:09   0.0   0.0   0.0  ...   0.0   0.0   0.0   0.0    0.0\n",
            "\n",
            "[10 rows x 12 columns]\n"
          ],
          "name": "stdout"
        }
      ]
    },
    {
      "cell_type": "code",
      "metadata": {
        "colab": {
          "base_uri": "https://localhost:8080/",
          "height": 438
        },
        "id": "xFeF4T110-oa",
        "outputId": "c8fdc53b-c6a3-4974-f628-1db3155a48e4"
      },
      "source": [
        "from pandas import read_csv\n",
        "from pandas import datetime\n",
        "from pandas import DataFrame\n",
        "from pandas import concat\n",
        "from matplotlib import pyplot\n",
        "from sklearn.metrics import mean_squared_error\n",
        "# load dataset\n",
        "series = read_csv('/content/drive/MyDrive/Colab Notebooks/solar_201502_201512_clean.csv', header=0, index_col=\"timestamp\", usecols=[1,2],)\n",
        "# prepare data\n",
        "values = DataFrame(series.values)\n",
        "dataframe = concat([values.shift(1), values], axis=1)\n",
        "dataframe.columns = ['t-1', 't+1']\n",
        "print(dataframe.head(5))\n",
        "# split into train and test sets\n",
        "X = dataframe.values\n",
        "train_size = int(len(X) * 0.66)\n",
        "train, test = X[1:train_size], X[train_size:]\n",
        "train_X, train_y = train[:,0], train[:,1]\n",
        "test_X, test_y = test[:,0], test[:,1]\n",
        "# persistence model\n",
        "def model_persistence(x):\n",
        "\treturn x\n",
        "# walk-forward validation\n",
        "predictions = list()\n",
        "for x in test_X:\n",
        "\tyhat = model_persistence(x)\n",
        "\tpredictions.append(yhat)\n",
        "test_score = mean_squared_error(test_y, predictions)\n",
        "print('Test MSE: %.3f' % test_score)\n",
        "# plot predictions and expected results\n",
        "pyplot.plot(train_y)\n",
        "pyplot.plot([None for i in train_y] + [x for x in test_y])\n",
        "pyplot.plot([None for i in train_y] + [x for x in predictions])\n",
        "pyplot.show()"
      ],
      "execution_count": 19,
      "outputs": [
        {
          "output_type": "stream",
          "text": [
            "/usr/local/lib/python3.7/dist-packages/ipykernel_launcher.py:2: FutureWarning: The pandas.datetime class is deprecated and will be removed from pandas in a future version. Import from datetime module instead.\n",
            "  \n"
          ],
          "name": "stderr"
        },
        {
          "output_type": "stream",
          "text": [
            "   t-1  t+1\n",
            "0  NaN  0.0\n",
            "1  0.0  0.0\n",
            "2  0.0  0.0\n",
            "3  0.0  0.0\n",
            "4  0.0  0.0\n",
            "Test MSE: 0.007\n"
          ],
          "name": "stdout"
        },
        {
          "output_type": "display_data",
          "data": {
            "image/png": "[encoded data removed]",
            "text/plain": [
              "<Figure size 432x288 with 1 Axes>"
            ]
          },
          "metadata": {
            "tags": [],
            "needs_background": "light"
          }
        }
      ]
    }
  ]
}